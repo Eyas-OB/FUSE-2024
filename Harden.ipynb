{
 "cells": [
  {
   "cell_type": "code",
   "execution_count": 1,
   "metadata": {},
   "outputs": [],
   "source": [
    "# for this test we will be using thr VADER model \n",
    "# this model looks at each word and adds them together to find a score \n",
    "\n",
    "import pandas as pd\n",
    "import numpy as np \n",
    "import matplotlib.pyplot as plt\n",
    "import seaborn as sns \n",
    "\n",
    "plt.style.use('ggplot')\n",
    "\n",
    "import nltk\n"
   ]
  },
  {
   "cell_type": "code",
   "execution_count": 17,
   "metadata": {},
   "outputs": [],
   "source": [
    "\n",
    "# Correct function to read an Excel file\n",
    "df = pd.read_csv(r'C:\\Users\\eyas1\\Downloads\\James Harden Data.csv')"
   ]
  },
  {
   "cell_type": "code",
   "execution_count": 18,
   "metadata": {},
   "outputs": [
    {
     "data": {
      "text/html": [
       "<div>\n",
       "<style scoped>\n",
       "    .dataframe tbody tr th:only-of-type {\n",
       "        vertical-align: middle;\n",
       "    }\n",
       "\n",
       "    .dataframe tbody tr th {\n",
       "        vertical-align: top;\n",
       "    }\n",
       "\n",
       "    .dataframe thead th {\n",
       "        text-align: right;\n",
       "    }\n",
       "</style>\n",
       "<table border=\"1\" class=\"dataframe\">\n",
       "  <thead>\n",
       "    <tr style=\"text-align: right;\">\n",
       "      <th></th>\n",
       "      <th>Id</th>\n",
       "      <th>Player @</th>\n",
       "      <th>Content</th>\n",
       "      <th>Date</th>\n",
       "    </tr>\n",
       "  </thead>\n",
       "  <tbody>\n",
       "    <tr>\n",
       "      <th>0</th>\n",
       "      <td>1</td>\n",
       "      <td>@JHarden13</td>\n",
       "      <td>Fuck a @JHarden13 We have this guy. #Brotherly...</td>\n",
       "      <td>30-Dec-23</td>\n",
       "    </tr>\n",
       "    <tr>\n",
       "      <th>1</th>\n",
       "      <td>2</td>\n",
       "      <td>@JHarden13</td>\n",
       "      <td>Never give up and shhh the critics @JHarden13 ...</td>\n",
       "      <td>30-Dec-23</td>\n",
       "    </tr>\n",
       "    <tr>\n",
       "      <th>2</th>\n",
       "      <td>3</td>\n",
       "      <td>@JHarden13</td>\n",
       "      <td>dance with THE BEARD\\n\\n@JHarden13 | @LAClippers</td>\n",
       "      <td>30-Dec-23</td>\n",
       "    </tr>\n",
       "    <tr>\n",
       "      <th>3</th>\n",
       "      <td>4</td>\n",
       "      <td>@JHarden13</td>\n",
       "      <td>James Harden is the best PG, playmaker and bal...</td>\n",
       "      <td>30-Dec-23</td>\n",
       "    </tr>\n",
       "    <tr>\n",
       "      <th>4</th>\n",
       "      <td>5</td>\n",
       "      <td>@JHarden13</td>\n",
       "      <td>MJ shot with his left? @JHarden13 ? \\nWTF @vin...</td>\n",
       "      <td>30-Dec-23</td>\n",
       "    </tr>\n",
       "  </tbody>\n",
       "</table>\n",
       "</div>"
      ],
      "text/plain": [
       "   Id    Player @                                            Content  \\\n",
       "0   1  @JHarden13  Fuck a @JHarden13 We have this guy. #Brotherly...   \n",
       "1   2  @JHarden13  Never give up and shhh the critics @JHarden13 ...   \n",
       "2   3  @JHarden13   dance with THE BEARD\\n\\n@JHarden13 | @LAClippers   \n",
       "3   4  @JHarden13  James Harden is the best PG, playmaker and bal...   \n",
       "4   5  @JHarden13  MJ shot with his left? @JHarden13 ? \\nWTF @vin...   \n",
       "\n",
       "        Date  \n",
       "0  30-Dec-23  \n",
       "1  30-Dec-23  \n",
       "2  30-Dec-23  \n",
       "3  30-Dec-23  \n",
       "4  30-Dec-23  "
      ]
     },
     "execution_count": 18,
     "metadata": {},
     "output_type": "execute_result"
    }
   ],
   "source": [
    "df.head()"
   ]
  },
  {
   "cell_type": "code",
   "execution_count": 4,
   "metadata": {},
   "outputs": [
    {
     "name": "stdout",
     "output_type": "stream",
     "text": [
      "James Harden is the best PG, playmaker and ball handler in the world @JHarden13\n"
     ]
    }
   ],
   "source": [
    "# we will be running sentimant analysis on the Content row \n",
    "# we are going to use an example of one comment to start \n",
    "\n",
    "example = df['Content'] [3]\n",
    "print(example)"
   ]
  },
  {
   "cell_type": "code",
   "execution_count": 5,
   "metadata": {},
   "outputs": [
    {
     "name": "stderr",
     "output_type": "stream",
     "text": [
      "[nltk_data] Downloading package vader_lexicon to\n",
      "[nltk_data]     C:\\Users\\eyas1\\AppData\\Roaming\\nltk_data...\n",
      "[nltk_data]   Package vader_lexicon is already up-to-date!\n"
     ]
    }
   ],
   "source": [
    "# now its VADER time\n",
    "\n",
    "nltk.download('vader_lexicon')\n",
    "\n",
    "from nltk.sentiment import SentimentIntensityAnalyzer\n",
    "from tqdm.notebook import tqdm\n",
    "\n",
    "sia = SentimentIntensityAnalyzer()"
   ]
  },
  {
   "cell_type": "code",
   "execution_count": 6,
   "metadata": {},
   "outputs": [
    {
     "data": {
      "text/plain": [
       "{'neg': 0.0, 'neu': 0.549, 'pos': 0.451, 'compound': 0.6249}"
      ]
     },
     "execution_count": 6,
     "metadata": {},
     "output_type": "execute_result"
    }
   ],
   "source": [
    "#testing the intensity analyzer \n",
    "# all this is doing is summing up how many negative and positive words there are in this sentance \n",
    "#the compound score is from negative 1 to positive 1 to show how positive it is \n",
    "\n",
    "sia.polarity_scores(\"today is going to be awesome\")"
   ]
  },
  {
   "cell_type": "code",
   "execution_count": 44,
   "metadata": {},
   "outputs": [
    {
     "data": {
      "text/plain": [
       "{'neg': 0.417, 'neu': 0.583, 'pos': 0.0, 'compound': -0.6486}"
      ]
     },
     "execution_count": 44,
     "metadata": {},
     "output_type": "execute_result"
    }
   ],
   "source": [
    "sia.polarity_scores(\"james harden is a killer on the court\")"
   ]
  },
  {
   "cell_type": "code",
   "execution_count": 7,
   "metadata": {},
   "outputs": [
    {
     "data": {
      "text/plain": [
       "{'neg': 0.649, 'neu': 0.351, 'pos': 0.0, 'compound': -0.5719}"
      ]
     },
     "execution_count": 7,
     "metadata": {},
     "output_type": "execute_result"
    }
   ],
   "source": [
    "sia.polarity_scores(\"I hate it here\")"
   ]
  },
  {
   "cell_type": "code",
   "execution_count": 8,
   "metadata": {},
   "outputs": [
    {
     "name": "stdout",
     "output_type": "stream",
     "text": [
      "James Harden is the best PG, playmaker and ball handler in the world @JHarden13\n"
     ]
    },
    {
     "data": {
      "text/plain": [
       "{'neg': 0.0, 'neu': 0.756, 'pos': 0.244, 'compound': 0.6369}"
      ]
     },
     "execution_count": 8,
     "metadata": {},
     "output_type": "execute_result"
    }
   ],
   "source": [
    "print(example)\n",
    "\n",
    "sia.polarity_scores(example)"
   ]
  },
  {
   "cell_type": "code",
   "execution_count": 13,
   "metadata": {},
   "outputs": [
    {
     "name": "stderr",
     "output_type": "stream",
     "text": [
      "100%|██████████| 20/20 [00:00<00:00, 4561.51it/s]\n"
     ]
    }
   ],
   "source": [
    "from nltk.sentiment import SentimentIntensityAnalyzer\n",
    "from tqdm import tqdm\n",
    "\n",
    "# Initialize the sentiment analyzer\n",
    "sia = SentimentIntensityAnalyzer()\n",
    "\n",
    "# Initialize an empty dictionary to store results\n",
    "res = {}\n",
    "\n",
    "# Function to calculate sentiment scores and store in res\n",
    "def get_sentiment(text, idx):\n",
    "    sentiment_scores = sia.polarity_scores(text)\n",
    "    res[idx] = sentiment_scores\n",
    "    return sentiment_scores\n",
    "\n",
    "# Apply the function to the 'Content' column\n",
    "tqdm.pandas()\n",
    "df['sentiment'] = df['Content'].progress_apply(lambda text: get_sentiment(text, df.index[df['Content'] == text][0]))\n",
    "\n"
   ]
  },
  {
   "cell_type": "code",
   "execution_count": 14,
   "metadata": {},
   "outputs": [
    {
     "data": {
      "text/plain": [
       "{np.int64(0): {'neg': 0.368, 'neu': 0.632, 'pos': 0.0, 'compound': -0.5423},\n",
       " np.int64(1): {'neg': 0.216, 'neu': 0.784, 'pos': 0.0, 'compound': -0.296},\n",
       " np.int64(2): {'neg': 0.0, 'neu': 1.0, 'pos': 0.0, 'compound': 0.0},\n",
       " np.int64(3): {'neg': 0.0, 'neu': 0.756, 'pos': 0.244, 'compound': 0.6369},\n",
       " np.int64(4): {'neg': 0.42, 'neu': 0.58, 'pos': 0.0, 'compound': -0.7247},\n",
       " np.int64(5): {'neg': 0.0, 'neu': 1.0, 'pos': 0.0, 'compound': 0.0},\n",
       " np.int64(6): {'neg': 0.0, 'neu': 1.0, 'pos': 0.0, 'compound': 0.0},\n",
       " np.int64(7): {'neg': 0.145, 'neu': 0.784, 'pos': 0.071, 'compound': -0.4404},\n",
       " np.int64(8): {'neg': 0.0, 'neu': 0.473, 'pos': 0.527, 'compound': 0.9938},\n",
       " np.int64(9): {'neg': 0.286, 'neu': 0.714, 'pos': 0.0, 'compound': -0.34},\n",
       " np.int64(10): {'neg': 0.0, 'neu': 0.792, 'pos': 0.208, 'compound': 0.6369},\n",
       " np.int64(11): {'neg': 0.0, 'neu': 0.765, 'pos': 0.235, 'compound': 0.5707},\n",
       " np.int64(12): {'neg': 0.0, 'neu': 1.0, 'pos': 0.0, 'compound': 0.0},\n",
       " np.int64(13): {'neg': 0.0, 'neu': 1.0, 'pos': 0.0, 'compound': 0.0},\n",
       " np.int64(14): {'neg': 0.0, 'neu': 1.0, 'pos': 0.0, 'compound': 0.0},\n",
       " np.int64(15): {'neg': 0.0, 'neu': 1.0, 'pos': 0.0, 'compound': 0.0},\n",
       " np.int64(16): {'neg': 0.0, 'neu': 0.868, 'pos': 0.132, 'compound': 0.4404},\n",
       " np.int64(17): {'neg': 0.0, 'neu': 0.883, 'pos': 0.117, 'compound': 0.6696},\n",
       " np.int64(18): {'neg': 0.0, 'neu': 1.0, 'pos': 0.0, 'compound': 0.0},\n",
       " np.int64(19): {'neg': 0.0, 'neu': 1.0, 'pos': 0.0, 'compound': 0.0}}"
      ]
     },
     "execution_count": 14,
     "metadata": {},
     "output_type": "execute_result"
    }
   ],
   "source": [
    "res"
   ]
  },
  {
   "cell_type": "code",
   "execution_count": 15,
   "metadata": {},
   "outputs": [
    {
     "data": {
      "text/html": [
       "<div>\n",
       "<style scoped>\n",
       "    .dataframe tbody tr th:only-of-type {\n",
       "        vertical-align: middle;\n",
       "    }\n",
       "\n",
       "    .dataframe tbody tr th {\n",
       "        vertical-align: top;\n",
       "    }\n",
       "\n",
       "    .dataframe thead th {\n",
       "        text-align: right;\n",
       "    }\n",
       "</style>\n",
       "<table border=\"1\" class=\"dataframe\">\n",
       "  <thead>\n",
       "    <tr style=\"text-align: right;\">\n",
       "      <th></th>\n",
       "      <th>neg</th>\n",
       "      <th>neu</th>\n",
       "      <th>pos</th>\n",
       "      <th>compound</th>\n",
       "    </tr>\n",
       "  </thead>\n",
       "  <tbody>\n",
       "    <tr>\n",
       "      <th>0</th>\n",
       "      <td>0.368</td>\n",
       "      <td>0.632</td>\n",
       "      <td>0.000</td>\n",
       "      <td>-0.5423</td>\n",
       "    </tr>\n",
       "    <tr>\n",
       "      <th>1</th>\n",
       "      <td>0.216</td>\n",
       "      <td>0.784</td>\n",
       "      <td>0.000</td>\n",
       "      <td>-0.2960</td>\n",
       "    </tr>\n",
       "    <tr>\n",
       "      <th>2</th>\n",
       "      <td>0.000</td>\n",
       "      <td>1.000</td>\n",
       "      <td>0.000</td>\n",
       "      <td>0.0000</td>\n",
       "    </tr>\n",
       "    <tr>\n",
       "      <th>3</th>\n",
       "      <td>0.000</td>\n",
       "      <td>0.756</td>\n",
       "      <td>0.244</td>\n",
       "      <td>0.6369</td>\n",
       "    </tr>\n",
       "    <tr>\n",
       "      <th>4</th>\n",
       "      <td>0.420</td>\n",
       "      <td>0.580</td>\n",
       "      <td>0.000</td>\n",
       "      <td>-0.7247</td>\n",
       "    </tr>\n",
       "    <tr>\n",
       "      <th>5</th>\n",
       "      <td>0.000</td>\n",
       "      <td>1.000</td>\n",
       "      <td>0.000</td>\n",
       "      <td>0.0000</td>\n",
       "    </tr>\n",
       "    <tr>\n",
       "      <th>6</th>\n",
       "      <td>0.000</td>\n",
       "      <td>1.000</td>\n",
       "      <td>0.000</td>\n",
       "      <td>0.0000</td>\n",
       "    </tr>\n",
       "    <tr>\n",
       "      <th>7</th>\n",
       "      <td>0.145</td>\n",
       "      <td>0.784</td>\n",
       "      <td>0.071</td>\n",
       "      <td>-0.4404</td>\n",
       "    </tr>\n",
       "    <tr>\n",
       "      <th>8</th>\n",
       "      <td>0.000</td>\n",
       "      <td>0.473</td>\n",
       "      <td>0.527</td>\n",
       "      <td>0.9938</td>\n",
       "    </tr>\n",
       "    <tr>\n",
       "      <th>9</th>\n",
       "      <td>0.286</td>\n",
       "      <td>0.714</td>\n",
       "      <td>0.000</td>\n",
       "      <td>-0.3400</td>\n",
       "    </tr>\n",
       "    <tr>\n",
       "      <th>10</th>\n",
       "      <td>0.000</td>\n",
       "      <td>0.792</td>\n",
       "      <td>0.208</td>\n",
       "      <td>0.6369</td>\n",
       "    </tr>\n",
       "    <tr>\n",
       "      <th>11</th>\n",
       "      <td>0.000</td>\n",
       "      <td>0.765</td>\n",
       "      <td>0.235</td>\n",
       "      <td>0.5707</td>\n",
       "    </tr>\n",
       "    <tr>\n",
       "      <th>12</th>\n",
       "      <td>0.000</td>\n",
       "      <td>1.000</td>\n",
       "      <td>0.000</td>\n",
       "      <td>0.0000</td>\n",
       "    </tr>\n",
       "    <tr>\n",
       "      <th>13</th>\n",
       "      <td>0.000</td>\n",
       "      <td>1.000</td>\n",
       "      <td>0.000</td>\n",
       "      <td>0.0000</td>\n",
       "    </tr>\n",
       "    <tr>\n",
       "      <th>14</th>\n",
       "      <td>0.000</td>\n",
       "      <td>1.000</td>\n",
       "      <td>0.000</td>\n",
       "      <td>0.0000</td>\n",
       "    </tr>\n",
       "    <tr>\n",
       "      <th>15</th>\n",
       "      <td>0.000</td>\n",
       "      <td>1.000</td>\n",
       "      <td>0.000</td>\n",
       "      <td>0.0000</td>\n",
       "    </tr>\n",
       "    <tr>\n",
       "      <th>16</th>\n",
       "      <td>0.000</td>\n",
       "      <td>0.868</td>\n",
       "      <td>0.132</td>\n",
       "      <td>0.4404</td>\n",
       "    </tr>\n",
       "    <tr>\n",
       "      <th>17</th>\n",
       "      <td>0.000</td>\n",
       "      <td>0.883</td>\n",
       "      <td>0.117</td>\n",
       "      <td>0.6696</td>\n",
       "    </tr>\n",
       "    <tr>\n",
       "      <th>18</th>\n",
       "      <td>0.000</td>\n",
       "      <td>1.000</td>\n",
       "      <td>0.000</td>\n",
       "      <td>0.0000</td>\n",
       "    </tr>\n",
       "    <tr>\n",
       "      <th>19</th>\n",
       "      <td>0.000</td>\n",
       "      <td>1.000</td>\n",
       "      <td>0.000</td>\n",
       "      <td>0.0000</td>\n",
       "    </tr>\n",
       "  </tbody>\n",
       "</table>\n",
       "</div>"
      ],
      "text/plain": [
       "      neg    neu    pos  compound\n",
       "0   0.368  0.632  0.000   -0.5423\n",
       "1   0.216  0.784  0.000   -0.2960\n",
       "2   0.000  1.000  0.000    0.0000\n",
       "3   0.000  0.756  0.244    0.6369\n",
       "4   0.420  0.580  0.000   -0.7247\n",
       "5   0.000  1.000  0.000    0.0000\n",
       "6   0.000  1.000  0.000    0.0000\n",
       "7   0.145  0.784  0.071   -0.4404\n",
       "8   0.000  0.473  0.527    0.9938\n",
       "9   0.286  0.714  0.000   -0.3400\n",
       "10  0.000  0.792  0.208    0.6369\n",
       "11  0.000  0.765  0.235    0.5707\n",
       "12  0.000  1.000  0.000    0.0000\n",
       "13  0.000  1.000  0.000    0.0000\n",
       "14  0.000  1.000  0.000    0.0000\n",
       "15  0.000  1.000  0.000    0.0000\n",
       "16  0.000  0.868  0.132    0.4404\n",
       "17  0.000  0.883  0.117    0.6696\n",
       "18  0.000  1.000  0.000    0.0000\n",
       "19  0.000  1.000  0.000    0.0000"
      ]
     },
     "execution_count": 15,
     "metadata": {},
     "output_type": "execute_result"
    }
   ],
   "source": [
    "pd.DataFrame(res).T"
   ]
  },
  {
   "cell_type": "code",
   "execution_count": 23,
   "metadata": {},
   "outputs": [],
   "source": [
    "vaders = pd.DataFrame(res).T\n",
    "\n",
    "vaders = vaders.reset_index().rename(columns={'index': 'Id'})\n",
    "\n",
    "vaders = vaders.merge(df, how = 'left')"
   ]
  },
  {
   "cell_type": "code",
   "execution_count": 25,
   "metadata": {},
   "outputs": [
    {
     "data": {
      "text/html": [
       "<div>\n",
       "<style scoped>\n",
       "    .dataframe tbody tr th:only-of-type {\n",
       "        vertical-align: middle;\n",
       "    }\n",
       "\n",
       "    .dataframe tbody tr th {\n",
       "        vertical-align: top;\n",
       "    }\n",
       "\n",
       "    .dataframe thead th {\n",
       "        text-align: right;\n",
       "    }\n",
       "</style>\n",
       "<table border=\"1\" class=\"dataframe\">\n",
       "  <thead>\n",
       "    <tr style=\"text-align: right;\">\n",
       "      <th></th>\n",
       "      <th>Id</th>\n",
       "      <th>neg</th>\n",
       "      <th>neu</th>\n",
       "      <th>pos</th>\n",
       "      <th>compound</th>\n",
       "      <th>Player @</th>\n",
       "      <th>Content</th>\n",
       "      <th>Date</th>\n",
       "    </tr>\n",
       "  </thead>\n",
       "  <tbody>\n",
       "    <tr>\n",
       "      <th>0</th>\n",
       "      <td>0</td>\n",
       "      <td>0.368</td>\n",
       "      <td>0.632</td>\n",
       "      <td>0.000</td>\n",
       "      <td>-0.5423</td>\n",
       "      <td>NaN</td>\n",
       "      <td>NaN</td>\n",
       "      <td>NaN</td>\n",
       "    </tr>\n",
       "    <tr>\n",
       "      <th>1</th>\n",
       "      <td>1</td>\n",
       "      <td>0.216</td>\n",
       "      <td>0.784</td>\n",
       "      <td>0.000</td>\n",
       "      <td>-0.2960</td>\n",
       "      <td>@JHarden13</td>\n",
       "      <td>Fuck a @JHarden13 We have this guy. #Brotherly...</td>\n",
       "      <td>30-Dec-23</td>\n",
       "    </tr>\n",
       "    <tr>\n",
       "      <th>2</th>\n",
       "      <td>2</td>\n",
       "      <td>0.000</td>\n",
       "      <td>1.000</td>\n",
       "      <td>0.000</td>\n",
       "      <td>0.0000</td>\n",
       "      <td>@JHarden13</td>\n",
       "      <td>Never give up and shhh the critics @JHarden13 ...</td>\n",
       "      <td>30-Dec-23</td>\n",
       "    </tr>\n",
       "    <tr>\n",
       "      <th>3</th>\n",
       "      <td>3</td>\n",
       "      <td>0.000</td>\n",
       "      <td>0.756</td>\n",
       "      <td>0.244</td>\n",
       "      <td>0.6369</td>\n",
       "      <td>@JHarden13</td>\n",
       "      <td>dance with THE BEARD\\n\\n@JHarden13 | @LAClippers</td>\n",
       "      <td>30-Dec-23</td>\n",
       "    </tr>\n",
       "    <tr>\n",
       "      <th>4</th>\n",
       "      <td>4</td>\n",
       "      <td>0.420</td>\n",
       "      <td>0.580</td>\n",
       "      <td>0.000</td>\n",
       "      <td>-0.7247</td>\n",
       "      <td>@JHarden13</td>\n",
       "      <td>James Harden is the best PG, playmaker and bal...</td>\n",
       "      <td>30-Dec-23</td>\n",
       "    </tr>\n",
       "    <tr>\n",
       "      <th>5</th>\n",
       "      <td>5</td>\n",
       "      <td>0.000</td>\n",
       "      <td>1.000</td>\n",
       "      <td>0.000</td>\n",
       "      <td>0.0000</td>\n",
       "      <td>@JHarden13</td>\n",
       "      <td>MJ shot with his left? @JHarden13 ? \\nWTF @vin...</td>\n",
       "      <td>30-Dec-23</td>\n",
       "    </tr>\n",
       "    <tr>\n",
       "      <th>6</th>\n",
       "      <td>6</td>\n",
       "      <td>0.000</td>\n",
       "      <td>1.000</td>\n",
       "      <td>0.000</td>\n",
       "      <td>0.0000</td>\n",
       "      <td>@JHarden13</td>\n",
       "      <td>Imagine having @JHarden13 on your team.</td>\n",
       "      <td>30-Dec-23</td>\n",
       "    </tr>\n",
       "    <tr>\n",
       "      <th>7</th>\n",
       "      <td>7</td>\n",
       "      <td>0.145</td>\n",
       "      <td>0.784</td>\n",
       "      <td>0.071</td>\n",
       "      <td>-0.4404</td>\n",
       "      <td>@JHarden13</td>\n",
       "      <td>PG to @JHarden13 in the 2H tonight</td>\n",
       "      <td>29-Dec-23</td>\n",
       "    </tr>\n",
       "    <tr>\n",
       "      <th>8</th>\n",
       "      <td>8</td>\n",
       "      <td>0.000</td>\n",
       "      <td>0.473</td>\n",
       "      <td>0.527</td>\n",
       "      <td>0.9938</td>\n",
       "      <td>@LAClippers</td>\n",
       "      <td>Watching Clippers game and realize all the nig...</td>\n",
       "      <td>29-Dec-23</td>\n",
       "    </tr>\n",
       "    <tr>\n",
       "      <th>9</th>\n",
       "      <td>9</td>\n",
       "      <td>0.286</td>\n",
       "      <td>0.714</td>\n",
       "      <td>0.000</td>\n",
       "      <td>-0.3400</td>\n",
       "      <td>@JHarden13</td>\n",
       "      <td>Dear @JHarden13. you may not ever see this but...</td>\n",
       "      <td>29-Dec-23</td>\n",
       "    </tr>\n",
       "    <tr>\n",
       "      <th>10</th>\n",
       "      <td>10</td>\n",
       "      <td>0.000</td>\n",
       "      <td>0.792</td>\n",
       "      <td>0.208</td>\n",
       "      <td>0.6369</td>\n",
       "      <td>@JHarden13</td>\n",
       "      <td>These @JHarden13 passes this half are crazy</td>\n",
       "      <td>29-Dec-23</td>\n",
       "    </tr>\n",
       "    <tr>\n",
       "      <th>11</th>\n",
       "      <td>11</td>\n",
       "      <td>0.000</td>\n",
       "      <td>0.765</td>\n",
       "      <td>0.235</td>\n",
       "      <td>0.5707</td>\n",
       "      <td>@JHarden13</td>\n",
       "      <td>Vintage Brodie out there right now. Love seein...</td>\n",
       "      <td>29-Dec-23</td>\n",
       "    </tr>\n",
       "    <tr>\n",
       "      <th>12</th>\n",
       "      <td>12</td>\n",
       "      <td>0.000</td>\n",
       "      <td>1.000</td>\n",
       "      <td>0.000</td>\n",
       "      <td>0.0000</td>\n",
       "      <td>@JHarden13</td>\n",
       "      <td>Congrats to @JHarden13 of the @LAClippers for ...</td>\n",
       "      <td>29-Dec-23</td>\n",
       "    </tr>\n",
       "    <tr>\n",
       "      <th>13</th>\n",
       "      <td>13</td>\n",
       "      <td>0.000</td>\n",
       "      <td>1.000</td>\n",
       "      <td>0.000</td>\n",
       "      <td>0.0000</td>\n",
       "      <td>@JHarden13</td>\n",
       "      <td>HARD3N\\n\\n@JHarden13 | @LAClippers | #ClipperN...</td>\n",
       "      <td>29-Dec-23</td>\n",
       "    </tr>\n",
       "    <tr>\n",
       "      <th>14</th>\n",
       "      <td>14</td>\n",
       "      <td>0.000</td>\n",
       "      <td>1.000</td>\n",
       "      <td>0.000</td>\n",
       "      <td>0.0000</td>\n",
       "      <td>@JHarden13</td>\n",
       "      <td>BIG GAME @JHarden13 !!!!</td>\n",
       "      <td>29-Dec-23</td>\n",
       "    </tr>\n",
       "    <tr>\n",
       "      <th>15</th>\n",
       "      <td>15</td>\n",
       "      <td>0.000</td>\n",
       "      <td>1.000</td>\n",
       "      <td>0.000</td>\n",
       "      <td>0.0000</td>\n",
       "      <td>@JHarden13</td>\n",
       "      <td>COUNT IT &amp; 1 @JHarden13   \\n\\n@LAClippers | #C...</td>\n",
       "      <td>29-Dec-23</td>\n",
       "    </tr>\n",
       "    <tr>\n",
       "      <th>16</th>\n",
       "      <td>16</td>\n",
       "      <td>0.000</td>\n",
       "      <td>0.868</td>\n",
       "      <td>0.132</td>\n",
       "      <td>0.4404</td>\n",
       "      <td>@JHarden13</td>\n",
       "      <td>We got basketball in downtown Los Angeles@JHar...</td>\n",
       "      <td>29-Dec-23</td>\n",
       "    </tr>\n",
       "    <tr>\n",
       "      <th>17</th>\n",
       "      <td>17</td>\n",
       "      <td>0.000</td>\n",
       "      <td>0.883</td>\n",
       "      <td>0.117</td>\n",
       "      <td>0.6696</td>\n",
       "      <td>@JHarden13</td>\n",
       "      <td>Good Vibes Janky Drawing: Grizzled Beard [LAC ...</td>\n",
       "      <td>29-Dec-23</td>\n",
       "    </tr>\n",
       "    <tr>\n",
       "      <th>18</th>\n",
       "      <td>18</td>\n",
       "      <td>0.000</td>\n",
       "      <td>1.000</td>\n",
       "      <td>0.000</td>\n",
       "      <td>0.0000</td>\n",
       "      <td>@ETBSports</td>\n",
       "      <td>#ICYMI: The Best of @ETBSports 2023 Part 2\\n\\n...</td>\n",
       "      <td>29-Dec-23</td>\n",
       "    </tr>\n",
       "    <tr>\n",
       "      <th>19</th>\n",
       "      <td>19</td>\n",
       "      <td>0.000</td>\n",
       "      <td>1.000</td>\n",
       "      <td>0.000</td>\n",
       "      <td>0.0000</td>\n",
       "      <td>@JHarden13</td>\n",
       "      <td>2019 @JHarden13 numbers…almost</td>\n",
       "      <td>28-Dec-23</td>\n",
       "    </tr>\n",
       "  </tbody>\n",
       "</table>\n",
       "</div>"
      ],
      "text/plain": [
       "    Id    neg    neu    pos  compound     Player @  \\\n",
       "0    0  0.368  0.632  0.000   -0.5423          NaN   \n",
       "1    1  0.216  0.784  0.000   -0.2960   @JHarden13   \n",
       "2    2  0.000  1.000  0.000    0.0000   @JHarden13   \n",
       "3    3  0.000  0.756  0.244    0.6369   @JHarden13   \n",
       "4    4  0.420  0.580  0.000   -0.7247   @JHarden13   \n",
       "5    5  0.000  1.000  0.000    0.0000   @JHarden13   \n",
       "6    6  0.000  1.000  0.000    0.0000   @JHarden13   \n",
       "7    7  0.145  0.784  0.071   -0.4404   @JHarden13   \n",
       "8    8  0.000  0.473  0.527    0.9938  @LAClippers   \n",
       "9    9  0.286  0.714  0.000   -0.3400   @JHarden13   \n",
       "10  10  0.000  0.792  0.208    0.6369   @JHarden13   \n",
       "11  11  0.000  0.765  0.235    0.5707   @JHarden13   \n",
       "12  12  0.000  1.000  0.000    0.0000   @JHarden13   \n",
       "13  13  0.000  1.000  0.000    0.0000   @JHarden13   \n",
       "14  14  0.000  1.000  0.000    0.0000   @JHarden13   \n",
       "15  15  0.000  1.000  0.000    0.0000   @JHarden13   \n",
       "16  16  0.000  0.868  0.132    0.4404   @JHarden13   \n",
       "17  17  0.000  0.883  0.117    0.6696   @JHarden13   \n",
       "18  18  0.000  1.000  0.000    0.0000   @ETBSports   \n",
       "19  19  0.000  1.000  0.000    0.0000   @JHarden13   \n",
       "\n",
       "                                              Content       Date  \n",
       "0                                                 NaN        NaN  \n",
       "1   Fuck a @JHarden13 We have this guy. #Brotherly...  30-Dec-23  \n",
       "2   Never give up and shhh the critics @JHarden13 ...  30-Dec-23  \n",
       "3    dance with THE BEARD\\n\\n@JHarden13 | @LAClippers  30-Dec-23  \n",
       "4   James Harden is the best PG, playmaker and bal...  30-Dec-23  \n",
       "5   MJ shot with his left? @JHarden13 ? \\nWTF @vin...  30-Dec-23  \n",
       "6             Imagine having @JHarden13 on your team.  30-Dec-23  \n",
       "7                  PG to @JHarden13 in the 2H tonight  29-Dec-23  \n",
       "8   Watching Clippers game and realize all the nig...  29-Dec-23  \n",
       "9   Dear @JHarden13. you may not ever see this but...  29-Dec-23  \n",
       "10        These @JHarden13 passes this half are crazy  29-Dec-23  \n",
       "11  Vintage Brodie out there right now. Love seein...  29-Dec-23  \n",
       "12  Congrats to @JHarden13 of the @LAClippers for ...  29-Dec-23  \n",
       "13  HARD3N\\n\\n@JHarden13 | @LAClippers | #ClipperN...  29-Dec-23  \n",
       "14                           BIG GAME @JHarden13 !!!!  29-Dec-23  \n",
       "15  COUNT IT & 1 @JHarden13   \\n\\n@LAClippers | #C...  29-Dec-23  \n",
       "16  We got basketball in downtown Los Angeles@JHar...  29-Dec-23  \n",
       "17  Good Vibes Janky Drawing: Grizzled Beard [LAC ...  29-Dec-23  \n",
       "18  #ICYMI: The Best of @ETBSports 2023 Part 2\\n\\n...  29-Dec-23  \n",
       "19                     2019 @JHarden13 numbers…almost  28-Dec-23  "
      ]
     },
     "execution_count": 25,
     "metadata": {},
     "output_type": "execute_result"
    }
   ],
   "source": [
    "\n",
    "# now we have sentiment score \n",
    "\n",
    "vaders.head(20)\n"
   ]
  },
  {
   "cell_type": "code",
   "execution_count": 26,
   "metadata": {},
   "outputs": [
    {
     "name": "stdout",
     "output_type": "stream",
     "text": [
      "        Date  Average Compound\n",
      "0  28-Dec-23          0.000000\n",
      "1  29-Dec-23          0.210917\n",
      "2  30-Dec-23         -0.063967\n"
     ]
    }
   ],
   "source": [
    "# Group by the 'Date' column and calculate the mean of 'compound'\n",
    "average_compound_by_date = vaders.groupby('Date')['compound'].mean()\n",
    "\n",
    "# If you want the result as a DataFrame instead of a Series, reset the index\n",
    "average_compound_by_date = average_compound_by_date.reset_index()\n",
    "\n",
    "# Rename the columns for clarity\n",
    "average_compound_by_date.columns = ['Date', 'Average Compound']\n",
    "\n",
    "# Display the result\n",
    "print(average_compound_by_date)\n"
   ]
  },
  {
   "cell_type": "code",
   "execution_count": 30,
   "metadata": {},
   "outputs": [
    {
     "data": {
      "text/plain": [
       "<Axes: xlabel='Date', ylabel='Average Compound'>"
      ]
     },
     "execution_count": 30,
     "metadata": {},
     "output_type": "execute_result"
    },
    {
     "data": {
      "image/png": "[encoded data removed]",
      "text/plain": [
       "<Figure size 640x480 with 1 Axes>"
      ]
     },
     "metadata": {},
     "output_type": "display_data"
    }
   ],
   "source": [
    "sns.barplot(data= average_compound_by_date, x = 'Date', y = 'Average Compound')"
   ]
  },
  {
   "cell_type": "code",
   "execution_count": 31,
   "metadata": {},
   "outputs": [
    {
     "data": {
      "text/plain": [
       "<Axes: xlabel='Date', ylabel='Average Compound'>"
      ]
     },
     "execution_count": 31,
     "metadata": {},
     "output_type": "execute_result"
    },
    {
     "data": {
      "image/png": "[encoded data removed]",
      "text/plain": [
       "<Figure size 640x480 with 1 Axes>"
      ]
     },
     "metadata": {},
     "output_type": "display_data"
    }
   ],
   "source": [
    "sns.lineplot(data= average_compound_by_date, x = 'Date', y = 'Average Compound')"
   ]
  },
  {
   "cell_type": "code",
   "execution_count": 32,
   "metadata": {},
   "outputs": [],
   "source": [
    "#lets try the Roberta Pretrained model \n",
    "\n",
    "from transformers import AutoTokenizer\n",
    "from transformers import AutoModelForSequenceClassification\n",
    "from scipy.special import softmax "
   ]
  },
  {
   "cell_type": "code",
   "execution_count": 41,
   "metadata": {},
   "outputs": [
    {
     "ename": "AttributeError",
     "evalue": "module 'torch' has no attribute '__version__'",
     "output_type": "error",
     "traceback": [
      "\u001b[1;31m---------------------------------------------------------------------------\u001b[0m",
      "\u001b[1;31mAttributeError\u001b[0m                            Traceback (most recent call last)",
      "Cell \u001b[1;32mIn[41], line 2\u001b[0m\n\u001b[0;32m      1\u001b[0m \u001b[38;5;28;01mimport\u001b[39;00m \u001b[38;5;21;01mtorch\u001b[39;00m\n\u001b[1;32m----> 2\u001b[0m \u001b[38;5;28mprint\u001b[39m(\u001b[43mtorch\u001b[49m\u001b[38;5;241;43m.\u001b[39;49m\u001b[43m__version__\u001b[49m)\n\u001b[0;32m      3\u001b[0m \u001b[38;5;28mprint\u001b[39m(torch\u001b[38;5;241m.\u001b[39mcuda\u001b[38;5;241m.\u001b[39mis_available())\n",
      "\u001b[1;31mAttributeError\u001b[0m: module 'torch' has no attribute '__version__'"
     ]
    }
   ],
   "source": [
    "import torch\n",
    "print(torch.__version__)\n",
    "print(torch.cuda.is_available())\n"
   ]
  },
  {
   "cell_type": "code",
   "execution_count": null,
   "metadata": {},
   "outputs": [],
   "source": []
  }
 ],
 "metadata": {
  "kernelspec": {
   "display_name": "myenv",
   "language": "python",
   "name": "python3"
  },
  "language_info": {
   "codemirror_mode": {
    "name": "ipython",
    "version": 3
   },
   "file_extension": ".py",
   "mimetype": "text/x-python",
   "name": "python",
   "nbconvert_exporter": "python",
   "pygments_lexer": "ipython3",
   "version": "3.11.5"
  }
 },
 "nbformat": 4,
 "nbformat_minor": 2
}
